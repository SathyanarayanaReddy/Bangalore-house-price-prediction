{
 "cells": [
  {
   "cell_type": "markdown",
   "id": "785ad572",
   "metadata": {},
   "source": [
    "# Bangalore house price prediction"
   ]
  },
  {
   "cell_type": "code",
   "execution_count": 1,
   "id": "1f2ea052",
   "metadata": {},
   "outputs": [],
   "source": [
    "# importing the packages\n",
    "import pandas as pd\n",
    "import numpy as np\n",
    "import math as m\n",
    "import seaborn as sns"
   ]
  },
  {
   "cell_type": "code",
   "execution_count": 2,
   "id": "6beea487",
   "metadata": {},
   "outputs": [],
   "source": [
    "# reading the data file\n",
    "def read_data():\n",
    "    data=pd.read_csv(\"C:/Top/bangalore house price prediction OHE-data.csv \")\n",
    "    return data"
   ]
  },
  {
   "cell_type": "code",
   "execution_count": 3,
   "id": "0b882d9d",
   "metadata": {},
   "outputs": [
    {
     "name": "stdout",
     "output_type": "stream",
     "text": [
      "   bath  balcony  price  total_sqft_int  bhk  price_per_sqft  \\\n",
      "0   3.0      2.0  150.0          1672.0    3     8971.291866   \n",
      "1   3.0      3.0  149.0          1750.0    3     8514.285714   \n",
      "2   3.0      2.0  150.0          1750.0    3     8571.428571   \n",
      "3   2.0      2.0   40.0          1250.0    2     3200.000000   \n",
      "4   2.0      2.0   83.0          1200.0    2     6916.666667   \n",
      "\n",
      "   area_typeSuper built-up  Area  area_typeBuilt-up  Area  \\\n",
      "0                              1                        0   \n",
      "1                              0                        1   \n",
      "2                              1                        0   \n",
      "3                              1                        0   \n",
      "4                              0                        0   \n",
      "\n",
      "   area_typePlot  Area  availability_Ready To Move  ...  \\\n",
      "0                    0                           1  ...   \n",
      "1                    0                           1  ...   \n",
      "2                    0                           1  ...   \n",
      "3                    0                           1  ...   \n",
      "4                    1                           1  ...   \n",
      "\n",
      "   location_Kalena Agrahara  location_Horamavu Agara  location_Vidyaranyapura  \\\n",
      "0                         0                        0                        0   \n",
      "1                         0                        0                        0   \n",
      "2                         0                        0                        0   \n",
      "3                         0                        0                        0   \n",
      "4                         0                        0                        0   \n",
      "\n",
      "   location_BTM 2nd Stage  location_Hebbal Kempapura  location_Hosur Road  \\\n",
      "0                       0                          0                    0   \n",
      "1                       0                          0                    0   \n",
      "2                       0                          0                    0   \n",
      "3                       0                          0                    0   \n",
      "4                       0                          0                    0   \n",
      "\n",
      "   location_Horamavu Banaswadi  location_Domlur  location_Mahadevpura  \\\n",
      "0                            0                0                     0   \n",
      "1                            0                0                     0   \n",
      "2                            0                0                     0   \n",
      "3                            0                0                     0   \n",
      "4                            0                0                     0   \n",
      "\n",
      "   location_Tumkur Road  \n",
      "0                     0  \n",
      "1                     0  \n",
      "2                     0  \n",
      "3                     0  \n",
      "4                     0  \n",
      "\n",
      "[5 rows x 108 columns]\n"
     ]
    }
   ],
   "source": [
    "# calling the function\n",
    "data= read_data()\n",
    "print(data.head())"
   ]
  },
  {
   "cell_type": "code",
   "execution_count": 4,
   "id": "d500d645",
   "metadata": {},
   "outputs": [
    {
     "data": {
      "text/plain": [
       "(7120, 108)"
      ]
     },
     "execution_count": 4,
     "metadata": {},
     "output_type": "execute_result"
    }
   ],
   "source": [
    "data.shape"
   ]
  },
  {
   "cell_type": "code",
   "execution_count": 5,
   "id": "a74943e6",
   "metadata": {},
   "outputs": [
    {
     "name": "stdout",
     "output_type": "stream",
     "text": [
      "<class 'pandas.core.frame.DataFrame'>\n",
      "RangeIndex: 7120 entries, 0 to 7119\n",
      "Columns: 108 entries, bath to location_Tumkur Road\n",
      "dtypes: float64(5), int64(103)\n",
      "memory usage: 5.9 MB\n",
      "None\n"
     ]
    }
   ],
   "source": [
    "print(data.info())"
   ]
  },
  {
   "cell_type": "code",
   "execution_count": 6,
   "id": "eaef60f1",
   "metadata": {},
   "outputs": [],
   "source": [
    "df=data[(data[\"balcony\"]==0)|(data[\"balcony\"]==1) |(data[\"balcony\"]==2)|(data[\"balcony\"]==3)]"
   ]
  },
  {
   "cell_type": "code",
   "execution_count": 7,
   "id": "996b7427",
   "metadata": {},
   "outputs": [
    {
     "data": {
      "text/html": [
       "<div>\n",
       "<style scoped>\n",
       "    .dataframe tbody tr th:only-of-type {\n",
       "        vertical-align: middle;\n",
       "    }\n",
       "\n",
       "    .dataframe tbody tr th {\n",
       "        vertical-align: top;\n",
       "    }\n",
       "\n",
       "    .dataframe thead th {\n",
       "        text-align: right;\n",
       "    }\n",
       "</style>\n",
       "<table border=\"1\" class=\"dataframe\">\n",
       "  <thead>\n",
       "    <tr style=\"text-align: right;\">\n",
       "      <th></th>\n",
       "      <th>bath</th>\n",
       "      <th>balcony</th>\n",
       "      <th>price</th>\n",
       "      <th>total_sqft_int</th>\n",
       "      <th>bhk</th>\n",
       "      <th>price_per_sqft</th>\n",
       "      <th>area_typeSuper built-up  Area</th>\n",
       "      <th>area_typeBuilt-up  Area</th>\n",
       "      <th>area_typePlot  Area</th>\n",
       "      <th>availability_Ready To Move</th>\n",
       "      <th>...</th>\n",
       "      <th>location_Kalena Agrahara</th>\n",
       "      <th>location_Horamavu Agara</th>\n",
       "      <th>location_Vidyaranyapura</th>\n",
       "      <th>location_BTM 2nd Stage</th>\n",
       "      <th>location_Hebbal Kempapura</th>\n",
       "      <th>location_Hosur Road</th>\n",
       "      <th>location_Horamavu Banaswadi</th>\n",
       "      <th>location_Domlur</th>\n",
       "      <th>location_Mahadevpura</th>\n",
       "      <th>location_Tumkur Road</th>\n",
       "    </tr>\n",
       "  </thead>\n",
       "  <tbody>\n",
       "    <tr>\n",
       "      <th>0</th>\n",
       "      <td>3.0</td>\n",
       "      <td>2.0</td>\n",
       "      <td>150.0</td>\n",
       "      <td>1672.0</td>\n",
       "      <td>3</td>\n",
       "      <td>8971.291866</td>\n",
       "      <td>1</td>\n",
       "      <td>0</td>\n",
       "      <td>0</td>\n",
       "      <td>1</td>\n",
       "      <td>...</td>\n",
       "      <td>0</td>\n",
       "      <td>0</td>\n",
       "      <td>0</td>\n",
       "      <td>0</td>\n",
       "      <td>0</td>\n",
       "      <td>0</td>\n",
       "      <td>0</td>\n",
       "      <td>0</td>\n",
       "      <td>0</td>\n",
       "      <td>0</td>\n",
       "    </tr>\n",
       "    <tr>\n",
       "      <th>1</th>\n",
       "      <td>3.0</td>\n",
       "      <td>3.0</td>\n",
       "      <td>149.0</td>\n",
       "      <td>1750.0</td>\n",
       "      <td>3</td>\n",
       "      <td>8514.285714</td>\n",
       "      <td>0</td>\n",
       "      <td>1</td>\n",
       "      <td>0</td>\n",
       "      <td>1</td>\n",
       "      <td>...</td>\n",
       "      <td>0</td>\n",
       "      <td>0</td>\n",
       "      <td>0</td>\n",
       "      <td>0</td>\n",
       "      <td>0</td>\n",
       "      <td>0</td>\n",
       "      <td>0</td>\n",
       "      <td>0</td>\n",
       "      <td>0</td>\n",
       "      <td>0</td>\n",
       "    </tr>\n",
       "    <tr>\n",
       "      <th>2</th>\n",
       "      <td>3.0</td>\n",
       "      <td>2.0</td>\n",
       "      <td>150.0</td>\n",
       "      <td>1750.0</td>\n",
       "      <td>3</td>\n",
       "      <td>8571.428571</td>\n",
       "      <td>1</td>\n",
       "      <td>0</td>\n",
       "      <td>0</td>\n",
       "      <td>1</td>\n",
       "      <td>...</td>\n",
       "      <td>0</td>\n",
       "      <td>0</td>\n",
       "      <td>0</td>\n",
       "      <td>0</td>\n",
       "      <td>0</td>\n",
       "      <td>0</td>\n",
       "      <td>0</td>\n",
       "      <td>0</td>\n",
       "      <td>0</td>\n",
       "      <td>0</td>\n",
       "    </tr>\n",
       "    <tr>\n",
       "      <th>3</th>\n",
       "      <td>2.0</td>\n",
       "      <td>2.0</td>\n",
       "      <td>40.0</td>\n",
       "      <td>1250.0</td>\n",
       "      <td>2</td>\n",
       "      <td>3200.000000</td>\n",
       "      <td>1</td>\n",
       "      <td>0</td>\n",
       "      <td>0</td>\n",
       "      <td>1</td>\n",
       "      <td>...</td>\n",
       "      <td>0</td>\n",
       "      <td>0</td>\n",
       "      <td>0</td>\n",
       "      <td>0</td>\n",
       "      <td>0</td>\n",
       "      <td>0</td>\n",
       "      <td>0</td>\n",
       "      <td>0</td>\n",
       "      <td>0</td>\n",
       "      <td>0</td>\n",
       "    </tr>\n",
       "    <tr>\n",
       "      <th>4</th>\n",
       "      <td>2.0</td>\n",
       "      <td>2.0</td>\n",
       "      <td>83.0</td>\n",
       "      <td>1200.0</td>\n",
       "      <td>2</td>\n",
       "      <td>6916.666667</td>\n",
       "      <td>0</td>\n",
       "      <td>0</td>\n",
       "      <td>1</td>\n",
       "      <td>1</td>\n",
       "      <td>...</td>\n",
       "      <td>0</td>\n",
       "      <td>0</td>\n",
       "      <td>0</td>\n",
       "      <td>0</td>\n",
       "      <td>0</td>\n",
       "      <td>0</td>\n",
       "      <td>0</td>\n",
       "      <td>0</td>\n",
       "      <td>0</td>\n",
       "      <td>0</td>\n",
       "    </tr>\n",
       "  </tbody>\n",
       "</table>\n",
       "<p>5 rows × 108 columns</p>\n",
       "</div>"
      ],
      "text/plain": [
       "   bath  balcony  price  total_sqft_int  bhk  price_per_sqft  \\\n",
       "0   3.0      2.0  150.0          1672.0    3     8971.291866   \n",
       "1   3.0      3.0  149.0          1750.0    3     8514.285714   \n",
       "2   3.0      2.0  150.0          1750.0    3     8571.428571   \n",
       "3   2.0      2.0   40.0          1250.0    2     3200.000000   \n",
       "4   2.0      2.0   83.0          1200.0    2     6916.666667   \n",
       "\n",
       "   area_typeSuper built-up  Area  area_typeBuilt-up  Area  \\\n",
       "0                              1                        0   \n",
       "1                              0                        1   \n",
       "2                              1                        0   \n",
       "3                              1                        0   \n",
       "4                              0                        0   \n",
       "\n",
       "   area_typePlot  Area  availability_Ready To Move  ...  \\\n",
       "0                    0                           1  ...   \n",
       "1                    0                           1  ...   \n",
       "2                    0                           1  ...   \n",
       "3                    0                           1  ...   \n",
       "4                    1                           1  ...   \n",
       "\n",
       "   location_Kalena Agrahara  location_Horamavu Agara  location_Vidyaranyapura  \\\n",
       "0                         0                        0                        0   \n",
       "1                         0                        0                        0   \n",
       "2                         0                        0                        0   \n",
       "3                         0                        0                        0   \n",
       "4                         0                        0                        0   \n",
       "\n",
       "   location_BTM 2nd Stage  location_Hebbal Kempapura  location_Hosur Road  \\\n",
       "0                       0                          0                    0   \n",
       "1                       0                          0                    0   \n",
       "2                       0                          0                    0   \n",
       "3                       0                          0                    0   \n",
       "4                       0                          0                    0   \n",
       "\n",
       "   location_Horamavu Banaswadi  location_Domlur  location_Mahadevpura  \\\n",
       "0                            0                0                     0   \n",
       "1                            0                0                     0   \n",
       "2                            0                0                     0   \n",
       "3                            0                0                     0   \n",
       "4                            0                0                     0   \n",
       "\n",
       "   location_Tumkur Road  \n",
       "0                     0  \n",
       "1                     0  \n",
       "2                     0  \n",
       "3                     0  \n",
       "4                     0  \n",
       "\n",
       "[5 rows x 108 columns]"
      ]
     },
     "execution_count": 7,
     "metadata": {},
     "output_type": "execute_result"
    }
   ],
   "source": [
    "df.head()"
   ]
  },
  {
   "cell_type": "code",
   "execution_count": 9,
   "id": "486a6119",
   "metadata": {},
   "outputs": [
    {
     "data": {
      "text/plain": [
       "<Axes: >"
      ]
     },
     "execution_count": 9,
     "metadata": {},
     "output_type": "execute_result"
    },
    {
     "data": {
      "image/png": "[encoded data removed]",
      "text/plain": [
       "<Figure size 640x480 with 1 Axes>"
      ]
     },
     "metadata": {},
     "output_type": "display_data"
    }
   ],
   "source": [
    "#Exploratory Data Analysis\n",
    "# checking the outliers\n",
    "sns.boxplot(data=df.loc[:, ['bath', 'balcony', 'total_sqft_int', 'bhk', 'price_per_sqft',\n",
    "       'area_typeSuper built-up  Area', 'area_typeBuilt-up  Area', \n",
    "                             'area_typePlot  Area', 'availability_Ready To Move']])"
   ]
  },
  {
   "cell_type": "code",
   "execution_count": 12,
   "id": "e865a275",
   "metadata": {},
   "outputs": [
    {
     "data": {
      "text/plain": [
       "<Axes: xlabel='bhk', ylabel='count'>"
      ]
     },
     "execution_count": 12,
     "metadata": {},
     "output_type": "execute_result"
    },
    {
     "data": {
      "image/png": "[encoded data removed]",
      "text/plain": [
       "<Figure size 640x480 with 1 Axes>"
      ]
     },
     "metadata": {},
     "output_type": "display_data"
    }
   ],
   "source": [
    "sns.countplot(x=\"bhk\",data=df)"
   ]
  },
  {
   "cell_type": "code",
   "execution_count": 14,
   "id": "d900706a",
   "metadata": {},
   "outputs": [],
   "source": [
    "# model building\n",
    "X=df[['bath', 'balcony', 'total_sqft_int', 'bhk','price_per_sqft','area_typeSuper built-up  Area',\n",
    "       'area_typeBuilt-up  Area', 'area_typePlot  Area', 'availability_Ready To Move']]\n",
    "y=df['price']"
   ]
  },
  {
   "cell_type": "code",
   "execution_count": 17,
   "id": "6037887f",
   "metadata": {},
   "outputs": [],
   "source": [
    "from sklearn.model_selection import train_test_split\n",
    "from sklearn.metrics import r2_score,mean_squared_error,mean_absolute_error"
   ]
  },
  {
   "cell_type": "code",
   "execution_count": 18,
   "id": "8d7cc1ef",
   "metadata": {},
   "outputs": [],
   "source": [
    "def train_test(X,y):\n",
    "    X_train,X_test,y_train,y_test=train_test_split(X,y,train_size=0.2,random_state=1234)\n",
    "    print(X_train.shape),print(y_train.shape)\n",
    "    print(X_test.shape),print(y_test.shape)\n",
    "    return  X_train,X_test,y_train,y_test"
   ]
  },
  {
   "cell_type": "code",
   "execution_count": 19,
   "id": "7d9b1244",
   "metadata": {},
   "outputs": [
    {
     "name": "stdout",
     "output_type": "stream",
     "text": [
      "(1383, 9)\n",
      "(1383,)\n",
      "(5535, 9)\n",
      "(5535,)\n"
     ]
    }
   ],
   "source": [
    "X_train,X_test,y_train,y_test=train_test(X,y)"
   ]
  },
  {
   "cell_type": "code",
   "execution_count": 23,
   "id": "deb164aa",
   "metadata": {},
   "outputs": [],
   "source": [
    "from sklearn import preprocessing\n",
    "from sklearn.neighbors import KNeighborsRegressor\n",
    "def modelling(X_train,y_train,X_test):\n",
    "    model=KNeighborsRegressor(n_neighbors=22)\n",
    "    model_train=model.fit(X_train,y_train)\n",
    "    pred=model_train.predict(X_test)\n",
    "    return pred"
   ]
  },
  {
   "cell_type": "code",
   "execution_count": 24,
   "id": "c4577e9f",
   "metadata": {},
   "outputs": [
    {
     "name": "stdout",
     "output_type": "stream",
     "text": [
      "[94.51636364 52.18318182 20.14909091 ... 68.80636364 58.18954545\n",
      " 58.92045455]\n"
     ]
    }
   ],
   "source": [
    "pred=modelling(X_train,y_train,X_test)\n",
    "print(pred)"
   ]
  },
  {
   "cell_type": "code",
   "execution_count": 25,
   "id": "0494de45",
   "metadata": {},
   "outputs": [
    {
     "data": {
      "text/plain": [
       "0.5497557735517052"
      ]
     },
     "execution_count": 25,
     "metadata": {},
     "output_type": "execute_result"
    }
   ],
   "source": [
    "r2_score(y_test,pred)"
   ]
  },
  {
   "cell_type": "code",
   "execution_count": 27,
   "id": "d92d009c",
   "metadata": {},
   "outputs": [
    {
     "data": {
      "text/plain": [
       "75.12953897320939"
      ]
     },
     "execution_count": 27,
     "metadata": {},
     "output_type": "execute_result"
    }
   ],
   "source": [
    "m.sqrt(mean_squared_error(y_test,pred))"
   ]
  },
  {
   "cell_type": "code",
   "execution_count": 28,
   "id": "59ba448b",
   "metadata": {},
   "outputs": [
    {
     "data": {
      "text/plain": [
       "10.85929896526238"
      ]
     },
     "execution_count": 28,
     "metadata": {},
     "output_type": "execute_result"
    }
   ],
   "source": [
    "mean_absolute_error(y_test,pred)"
   ]
  },
  {
   "cell_type": "code",
   "execution_count": 34,
   "id": "00580e46",
   "metadata": {},
   "outputs": [
    {
     "data": {
      "text/plain": [
       "6918"
      ]
     },
     "execution_count": 34,
     "metadata": {},
     "output_type": "execute_result"
    }
   ],
   "source": [
    "(len(df))"
   ]
  },
  {
   "cell_type": "code",
   "execution_count": 36,
   "id": "a1c1b5df",
   "metadata": {},
   "outputs": [
    {
     "data": {
      "text/plain": [
       "83.17451532771321"
      ]
     },
     "execution_count": 36,
     "metadata": {},
     "output_type": "execute_result"
    }
   ],
   "source": [
    "from math import sqrt\n",
    "sqrt((len(df)))"
   ]
  },
  {
   "cell_type": "code",
   "execution_count": 37,
   "id": "df832c32",
   "metadata": {},
   "outputs": [
    {
     "data": {
      "text/plain": [
       "[0.2940620549755335,\n",
       " 0.3159809009018346,\n",
       " 0.3277821162196193,\n",
       " 0.3285880326061188,\n",
       " 0.3483531573357733,\n",
       " 0.3609321836015782,\n",
       " 0.3629532816949187,\n",
       " 0.36551128924157816,\n",
       " 0.3767841297930927,\n",
       " 0.3892850868604709,\n",
       " 0.3990187673778107,\n",
       " 0.4044159457235368,\n",
       " 0.4116340054055858,\n",
       " 0.4171094414333376,\n",
       " 0.4218912905184602,\n",
       " 0.42558126883595926,\n",
       " 0.42971725528993243,\n",
       " 0.43522781459492077,\n",
       " 0.43824179722678736,\n",
       " 0.4423201743740983,\n",
       " 0.4473028312125562,\n",
       " 0.45024422644829476,\n",
       " 0.45489581135533763,\n",
       " 0.45913661179372345,\n",
       " 0.46296413842658946,\n",
       " 0.4656322104270455,\n",
       " 0.46811956088161377,\n",
       " 0.46997477213181527,\n",
       " 0.4722191654537058,\n",
       " 0.4750290480235725,\n",
       " 0.47816692225457524,\n",
       " 0.4808445288367338,\n",
       " 0.4828320253295322,\n",
       " 0.4847988867405937,\n",
       " 0.48629838828518923,\n",
       " 0.4890875855360647,\n",
       " 0.4921039407121479,\n",
       " 0.4952017388918786,\n",
       " 0.49752636563679253,\n",
       " 0.49995882450822016,\n",
       " 0.502403754314477,\n",
       " 0.5045291946568742,\n",
       " 0.5065510978774974,\n",
       " 0.5096452901583675,\n",
       " 0.5119904002534791,\n",
       " 0.5147918332291144,\n",
       " 0.5176789739826593,\n",
       " 0.5195260068403394,\n",
       " 0.5214096086671016,\n",
       " 0.523695012726263,\n",
       " 0.5257169811323031,\n",
       " 0.5275241117356644,\n",
       " 0.5290436521518213,\n",
       " 0.5310760654595957,\n",
       " 0.5329622789161478,\n",
       " 0.5343598619002801,\n",
       " 0.5357438239090683,\n",
       " 0.5376791617992717,\n",
       " 0.5394687972459792,\n",
       " 0.5406603142278517,\n",
       " 0.5420420057040742,\n",
       " 0.543563165473967,\n",
       " 0.5451851353976659,\n",
       " 0.5463275220071274,\n",
       " 0.5477371361137795,\n",
       " 0.5491322322078478,\n",
       " 0.5503908890486127,\n",
       " 0.5516405120643795,\n",
       " 0.5528171703383936,\n",
       " 0.5537452356685033,\n",
       " 0.5545349580887834,\n",
       " 0.5555630494846787,\n",
       " 0.556747004888077,\n",
       " 0.5579472936574393,\n",
       " 0.5595374706611881,\n",
       " 0.5611143014042403,\n",
       " 0.5626544841776968,\n",
       " 0.5640747044978922,\n",
       " 0.5646562600038013,\n",
       " 0.5660482671940059,\n",
       " 0.5673955234926531,\n",
       " 0.5682407276264966,\n",
       " 0.5690904223639671,\n",
       " 0.5695861114800879,\n",
       " 0.5700110081843298,\n",
       " 0.5708627335024145,\n",
       " 0.5713158808162423,\n",
       " 0.5718268190458439,\n",
       " 0.5723582202959258,\n",
       " 0.5733501136194623,\n",
       " 0.574398683598451,\n",
       " 0.5753266516906559,\n",
       " 0.5762893095860809,\n",
       " 0.5770544261904451,\n",
       " 0.5779627584937549,\n",
       " 0.578931040329519,\n",
       " 0.5797421661661567,\n",
       " 0.5804556118689804,\n",
       " 0.581587277710329]"
      ]
     },
     "execution_count": 37,
     "metadata": {},
     "output_type": "execute_result"
    }
   ],
   "source": [
    "error_rate=[]\n",
    "for i in range(1,100):\n",
    "    knn=KNeighborsRegressor(n_neighbors=i)\n",
    "    knn.fit(X_train,y_train)\n",
    "    pred_i=knn.predict(X_test)\n",
    "    error_rate.append(1-r2_score(y_test,pred_i))\n",
    "error_rate"
   ]
  },
  {
   "cell_type": "code",
   "execution_count": 39,
   "id": "0af832ec",
   "metadata": {},
   "outputs": [
    {
     "data": {
      "text/plain": [
       "[<matplotlib.lines.Line2D at 0x1fd23dbc390>]"
      ]
     },
     "execution_count": 39,
     "metadata": {},
     "output_type": "execute_result"
    },
    {
     "data": {
      "image/png": "[encoded data removed]",
      "text/plain": [
       "<Figure size 640x480 with 1 Axes>"
      ]
     },
     "metadata": {},
     "output_type": "display_data"
    }
   ],
   "source": [
    "import matplotlib.pyplot as plt\n",
    "plt.plot(range(1,100),error_rate)"
   ]
  },
  {
   "cell_type": "code",
   "execution_count": null,
   "id": "e6ad26ae",
   "metadata": {},
   "outputs": [],
   "source": []
  }
 ],
 "metadata": {
  "kernelspec": {
   "display_name": "Python 3 (ipykernel)",
   "language": "python",
   "name": "python3"
  },
  "language_info": {
   "codemirror_mode": {
    "name": "ipython",
    "version": 3
   },
   "file_extension": ".py",
   "mimetype": "text/x-python",
   "name": "python",
   "nbconvert_exporter": "python",
   "pygments_lexer": "ipython3",
   "version": "3.11.4"
  }
 },
 "nbformat": 4,
 "nbformat_minor": 5
}
